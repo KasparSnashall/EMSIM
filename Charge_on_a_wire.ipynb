{
 "cells": [
  {
   "cell_type": "markdown",
   "metadata": {},
   "source": [
    "# Charge on a wire\n",
    "This example is based on the book by Walton Gibson. It aims to make a simple analytical solver for current on a wire by the method of moments. This ends up being pretty simple and just requries us to build a matrix then solve it using something like scipy's conjugate gradient solver. "
   ]
  },
  {
   "cell_type": "code",
   "execution_count": 4,
   "metadata": {},
   "outputs": [],
   "source": [
    "import numpy as np\n",
    "from scipy.sparse.linalg import cg as conjgradsolve\n",
    "import matplotlib.pyplot as plt"
   ]
  },
  {
   "cell_type": "code",
   "execution_count": 2,
   "metadata": {},
   "outputs": [],
   "source": [
    "def charged_wire_1d():\n",
    "    \n",
    "    def build_matrix(n,dx,a=0):\n",
    "        output = []\n",
    "        #output.append(0)\n",
    "        for i in range(1,n):\n",
    "            xb = (n+1)*dx\n",
    "            xa = (n+1-1)*dx\n",
    "            xm = i*dx #this is my current issue?\n",
    "            \n",
    "            top = (xb - xm) + np.sqrt((xb-xm)**2-a**2)\n",
    "            bottom = (xa - xm) + np.sqrt((xa-xm)**2-a**2)\n",
    "            z = np.log(top / bottom)\n",
    "            output.append(z)\n",
    "        \n",
    "        #output = output[int(n/2):-1] + output[int(n/2):-1] \n",
    "        # only need to build the first row then copy N times\n",
    "        # row = [z1, z2 ... ZN][zn, z1, z2 ...zn-1]\n",
    "        #output.append(0)\n",
    "        \n",
    "        out_matrix = []\n",
    "        \n",
    "        for j in range(len(output)):\n",
    "            out_matrix.append(output)\n",
    "            output = [output[-1]] + output[0:-1] \n",
    "\n",
    "        out_matrix = np.array(out_matrix)\n",
    "        return out_matrix\n",
    "        \n",
    "        \n",
    "    bm = 1#4*np.pi#*8.854e-12 # normalise\n",
    "    n = 1501\n",
    "    dx = 1/(n+1)\n",
    "    \n",
    "    a_matrix = build_matrix(n,dx)\n",
    "    b_matrix = [bm for x in a_matrix]\n",
    "    \n",
    "    b_matrix[-1] = 0 # boundary conditions zero field on ends\n",
    "    b_matrix[0] = 0 # perhaps these are artificial and the issue is in the matirx\n",
    "    solution = conjgradsolve(a_matrix,b_matrix, tol=1e-9)\n",
    "    \n",
    "    plt.plot(abs(solution[0]*8.854e-12*4*np.pi))\n",
    "    plt.show()"
   ]
  },
  {
   "cell_type": "code",
   "execution_count": 5,
   "metadata": {},
   "outputs": [
    {
     "data": {
      "image/png": "[encoded data removed]",
      "text/plain": [
       "<Figure size 640x480 with 1 Axes>"
      ]
     },
     "metadata": {},
     "output_type": "display_data"
    }
   ],
   "source": [
    "charged_wire_1d()"
   ]
  },
  {
   "cell_type": "markdown",
   "metadata": {},
   "source": [
    "This looks almost like what I expect excect the right hand side is no symetric. At the moment I am unsure of why this would be the case. I am guessing it must be because of the Xm value which is not talked about too much in the book. I am thinking this is the length along the wire but can't figure out why this solution is not correct. "
   ]
  },
  {
   "cell_type": "code",
   "execution_count": null,
   "metadata": {},
   "outputs": [],
   "source": []
  }
 ],
 "metadata": {
  "kernelspec": {
   "display_name": "EMSIM",
   "language": "python",
   "name": "python3"
  },
  "language_info": {
   "codemirror_mode": {
    "name": "ipython",
    "version": 3
   },
   "file_extension": ".py",
   "mimetype": "text/x-python",
   "name": "python",
   "nbconvert_exporter": "python",
   "pygments_lexer": "ipython3",
   "version": "3.9.13"
  }
 },
 "nbformat": 4,
 "nbformat_minor": 2
}
