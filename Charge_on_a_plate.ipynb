{
 "cells": [
  {
   "cell_type": "markdown",
   "metadata": {},
   "source": [
    "# Charge on a plate\n",
    "Slightly more advanced method of moments where we try to calculate the electrostatic charge on a plate.\n",
    "\n",
    "## Notes\n",
    "Still interested in the calculation of the positional information. I am guessing that the X_m, y_m are the integer numbers since the dx is already involved? Perhaps then the charge on a line is meant to be integers. "
   ]
  },
  {
   "cell_type": "code",
   "execution_count": null,
   "metadata": {},
   "outputs": [],
   "source": [
    "def charge_on_a_plate():\n",
    "    \n",
    "    def build_matrix(n,dx,a=0):\n",
    "        output = []\n",
    "        #output.append(0)\n",
    "        j = 1\n",
    "        diag = 2*a/np.pi*np.log(1+sqrt(2))\n",
    "        out_matrix = []\n",
    "        for i in range(n):\n",
    "            row = []\n",
    "            for i in range(n):\n",
    "                if i == j:\n",
    "                    row.append(diag)\n",
    "                else:\n",
    "                    znm = dx/(np.sqrt((xm-xn)**2)+(ym-yn)**2) #\n",
    "                    row.append(znm)\n",
    "            j += 1\n",
    "            out_matrix.append(row)\n",
    "            \n",
    "        out_matrix = np.array(out_matrix)\n",
    "        return out_matrix\n",
    "        \n",
    "        \n",
    "    bm = 1 #4*np.pi#*8.854e-12 # normalise\n",
    "    n = 15\n",
    "    dx = 1/(n+1)\n",
    "    \n",
    "    a_matrix = build_matrix(n,dx)\n",
    "    b_matrix = [bm for x in a_matrix]\n",
    "    \n",
    "    b_matrix[-1] = 0 # boundary conditions zero field on ends\n",
    "    b_matrix[0] = 0 # perhaps these are artificial and the issue is in the matirx\n",
    "    solution = conjgradsolve(a_matrix,b_matrix, tol=1e-9)\n",
    "    \n",
    "    plt.plot(abs(solution[0]*8.854e-12*4*np.pi))\n",
    "    plt.show()"
   ]
  }
 ],
 "metadata": {
  "language_info": {
   "name": "python"
  }
 },
 "nbformat": 4,
 "nbformat_minor": 2
}
