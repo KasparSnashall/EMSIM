{
 "cells": [
  {
   "cell_type": "code",
   "execution_count": null,
   "metadata": {},
   "outputs": [],
   "source": [
    "def charge_on_a_plate():\n",
    "    \n",
    "    def build_matrix(n,dx,a=0):\n",
    "        output = []\n",
    "        #output.append(0)\n",
    "        \n",
    "        #zmm = 2a/pi*epi log(1+sqrt(2))\n",
    "        #zmn = delta/(sqrt((xm-xn)**2)+(ym-yn)**2)\n",
    "        out_matrix = []\n",
    "\n",
    "        out_matrix = np.array(out_matrix)\n",
    "        return out_matrix\n",
    "        \n",
    "        \n",
    "    bm = 1 #4*np.pi#*8.854e-12 # normalise\n",
    "    n = 15\n",
    "    dx = 1/(n+1)\n",
    "    \n",
    "    a_matrix = build_matrix(n,dx)\n",
    "    b_matrix = [bm for x in a_matrix]\n",
    "    \n",
    "    b_matrix[-1] = 0 # boundary conditions zero field on ends\n",
    "    b_matrix[0] = 0 # perhaps these are artificial and the issue is in the matirx\n",
    "    solution = conjgradsolve(a_matrix,b_matrix, tol=1e-9)\n",
    "    \n",
    "    plt.plot(abs(solution[0]*8.854e-12*4*np.pi))\n",
    "    plt.show()"
   ]
  }
 ],
 "metadata": {
  "language_info": {
   "name": "python"
  }
 },
 "nbformat": 4,
 "nbformat_minor": 2
}
